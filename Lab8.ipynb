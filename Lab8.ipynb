{
  "nbformat": 4,
  "nbformat_minor": 0,
  "metadata": {
    "colab": {
      "provenance": []
    },
    "kernelspec": {
      "name": "python3",
      "display_name": "Python 3"
    },
    "language_info": {
      "name": "python"
    }
  },
  "cells": [
    {
      "cell_type": "markdown",
      "source": [
        "# Examining Gender Difference in Mean Finishing Time for a 5K\n",
        "\n",
        "In this notebook, I will be using pandas and data scraped from the Nittany Valley Running Club at https://www.nvrun.com/ to run a permutation-based hypothesis test and a bootstrapped confidence interval to determine if there is a statistically significant difference in the average finishing time of runners who identify as female and those who do not.\n"
      ],
      "metadata": {
        "id": "WuxApqWqpStT"
      }
    },
    {
      "cell_type": "code",
      "source": [
        "import pandas as pd\n",
        "import numpy as np\n",
        "path = \"https://raw.githubusercontent.com/DS200-SP2024-Hunter/Lab08-DueMar20/main/FiveKResults.csv\""
      ],
      "metadata": {
        "id": "6c9b8QzypWH5"
      },
      "execution_count": null,
      "outputs": []
    },
    {
      "cell_type": "markdown",
      "source": [
        "First, let's load in the data."
      ],
      "metadata": {
        "id": "gbwPAdOZp6ZU"
      }
    },
    {
      "cell_type": "code",
      "source": [
        "fiveK = pd.read_csv(path)\n",
        "fiveK.head()"
      ],
      "metadata": {
        "id": "exj-5vddpo4u",
        "colab": {
          "base_uri": "https://localhost:8080/",
          "height": 206
        },
        "outputId": "9acb5e20-222e-40f5-aed8-06bafcc83a25"
      },
      "execution_count": null,
      "outputs": [
        {
          "output_type": "execute_result",
          "data": {
            "text/plain": [
              "  Run  Finishing Time In Minutes  Identifies As Female  Age             Name  \\\n",
              "0  AF                     17.617                 False   27  Andy Cunningham   \n",
              "1  AF                     18.067                 False   49  S Mark Courtney   \n",
              "2  AF                     18.583                 False   46       Terry Reid   \n",
              "3  AF                     18.717                 False   15    Justin Rupert   \n",
              "4  AF                     18.800                  True   35    Kate Fonshell   \n",
              "\n",
              "            City State  \n",
              "0  State College   PA   \n",
              "1     Grove City   PA   \n",
              "2     Bellefonte   PA   \n",
              "3      Wellsboro   PA   \n",
              "4        Ardmore   PA   "
            ],
            "text/html": [
              "\n",
              "  <div id=\"df-1765dbe0-9624-4006-9a4b-03cf6d3482bc\" class=\"colab-df-container\">\n",
              "    <div>\n",
              "<style scoped>\n",
              "    .dataframe tbody tr th:only-of-type {\n",
              "        vertical-align: middle;\n",
              "    }\n",
              "\n",
              "    .dataframe tbody tr th {\n",
              "        vertical-align: top;\n",
              "    }\n",
              "\n",
              "    .dataframe thead th {\n",
              "        text-align: right;\n",
              "    }\n",
              "</style>\n",
              "<table border=\"1\" class=\"dataframe\">\n",
              "  <thead>\n",
              "    <tr style=\"text-align: right;\">\n",
              "      <th></th>\n",
              "      <th>Run</th>\n",
              "      <th>Finishing Time In Minutes</th>\n",
              "      <th>Identifies As Female</th>\n",
              "      <th>Age</th>\n",
              "      <th>Name</th>\n",
              "      <th>City</th>\n",
              "      <th>State</th>\n",
              "    </tr>\n",
              "  </thead>\n",
              "  <tbody>\n",
              "    <tr>\n",
              "      <th>0</th>\n",
              "      <td>AF</td>\n",
              "      <td>17.617</td>\n",
              "      <td>False</td>\n",
              "      <td>27</td>\n",
              "      <td>Andy Cunningham</td>\n",
              "      <td>State College</td>\n",
              "      <td>PA</td>\n",
              "    </tr>\n",
              "    <tr>\n",
              "      <th>1</th>\n",
              "      <td>AF</td>\n",
              "      <td>18.067</td>\n",
              "      <td>False</td>\n",
              "      <td>49</td>\n",
              "      <td>S Mark Courtney</td>\n",
              "      <td>Grove City</td>\n",
              "      <td>PA</td>\n",
              "    </tr>\n",
              "    <tr>\n",
              "      <th>2</th>\n",
              "      <td>AF</td>\n",
              "      <td>18.583</td>\n",
              "      <td>False</td>\n",
              "      <td>46</td>\n",
              "      <td>Terry Reid</td>\n",
              "      <td>Bellefonte</td>\n",
              "      <td>PA</td>\n",
              "    </tr>\n",
              "    <tr>\n",
              "      <th>3</th>\n",
              "      <td>AF</td>\n",
              "      <td>18.717</td>\n",
              "      <td>False</td>\n",
              "      <td>15</td>\n",
              "      <td>Justin Rupert</td>\n",
              "      <td>Wellsboro</td>\n",
              "      <td>PA</td>\n",
              "    </tr>\n",
              "    <tr>\n",
              "      <th>4</th>\n",
              "      <td>AF</td>\n",
              "      <td>18.800</td>\n",
              "      <td>True</td>\n",
              "      <td>35</td>\n",
              "      <td>Kate Fonshell</td>\n",
              "      <td>Ardmore</td>\n",
              "      <td>PA</td>\n",
              "    </tr>\n",
              "  </tbody>\n",
              "</table>\n",
              "</div>\n",
              "    <div class=\"colab-df-buttons\">\n",
              "\n",
              "  <div class=\"colab-df-container\">\n",
              "    <button class=\"colab-df-convert\" onclick=\"convertToInteractive('df-1765dbe0-9624-4006-9a4b-03cf6d3482bc')\"\n",
              "            title=\"Convert this dataframe to an interactive table.\"\n",
              "            style=\"display:none;\">\n",
              "\n",
              "  <svg xmlns=\"http://www.w3.org/2000/svg\" height=\"24px\" viewBox=\"0 -960 960 960\">\n",
              "    <path d=\"M120-120v-720h720v720H120Zm60-500h600v-160H180v160Zm220 220h160v-160H400v160Zm0 220h160v-160H400v160ZM180-400h160v-160H180v160Zm440 0h160v-160H620v160ZM180-180h160v-160H180v160Zm440 0h160v-160H620v160Z\"/>\n",
              "  </svg>\n",
              "    </button>\n",
              "\n",
              "  <style>\n",
              "    .colab-df-container {\n",
              "      display:flex;\n",
              "      gap: 12px;\n",
              "    }\n",
              "\n",
              "    .colab-df-convert {\n",
              "      background-color: #E8F0FE;\n",
              "      border: none;\n",
              "      border-radius: 50%;\n",
              "      cursor: pointer;\n",
              "      display: none;\n",
              "      fill: #1967D2;\n",
              "      height: 32px;\n",
              "      padding: 0 0 0 0;\n",
              "      width: 32px;\n",
              "    }\n",
              "\n",
              "    .colab-df-convert:hover {\n",
              "      background-color: #E2EBFA;\n",
              "      box-shadow: 0px 1px 2px rgba(60, 64, 67, 0.3), 0px 1px 3px 1px rgba(60, 64, 67, 0.15);\n",
              "      fill: #174EA6;\n",
              "    }\n",
              "\n",
              "    .colab-df-buttons div {\n",
              "      margin-bottom: 4px;\n",
              "    }\n",
              "\n",
              "    [theme=dark] .colab-df-convert {\n",
              "      background-color: #3B4455;\n",
              "      fill: #D2E3FC;\n",
              "    }\n",
              "\n",
              "    [theme=dark] .colab-df-convert:hover {\n",
              "      background-color: #434B5C;\n",
              "      box-shadow: 0px 1px 3px 1px rgba(0, 0, 0, 0.15);\n",
              "      filter: drop-shadow(0px 1px 2px rgba(0, 0, 0, 0.3));\n",
              "      fill: #FFFFFF;\n",
              "    }\n",
              "  </style>\n",
              "\n",
              "    <script>\n",
              "      const buttonEl =\n",
              "        document.querySelector('#df-1765dbe0-9624-4006-9a4b-03cf6d3482bc button.colab-df-convert');\n",
              "      buttonEl.style.display =\n",
              "        google.colab.kernel.accessAllowed ? 'block' : 'none';\n",
              "\n",
              "      async function convertToInteractive(key) {\n",
              "        const element = document.querySelector('#df-1765dbe0-9624-4006-9a4b-03cf6d3482bc');\n",
              "        const dataTable =\n",
              "          await google.colab.kernel.invokeFunction('convertToInteractive',\n",
              "                                                    [key], {});\n",
              "        if (!dataTable) return;\n",
              "\n",
              "        const docLinkHtml = 'Like what you see? Visit the ' +\n",
              "          '<a target=\"_blank\" href=https://colab.research.google.com/notebooks/data_table.ipynb>data table notebook</a>'\n",
              "          + ' to learn more about interactive tables.';\n",
              "        element.innerHTML = '';\n",
              "        dataTable['output_type'] = 'display_data';\n",
              "        await google.colab.output.renderOutput(dataTable, element);\n",
              "        const docLink = document.createElement('div');\n",
              "        docLink.innerHTML = docLinkHtml;\n",
              "        element.appendChild(docLink);\n",
              "      }\n",
              "    </script>\n",
              "  </div>\n",
              "\n",
              "\n",
              "<div id=\"df-21b752cb-8cc9-4b0b-9d20-3962e97ff527\">\n",
              "  <button class=\"colab-df-quickchart\" onclick=\"quickchart('df-21b752cb-8cc9-4b0b-9d20-3962e97ff527')\"\n",
              "            title=\"Suggest charts\"\n",
              "            style=\"display:none;\">\n",
              "\n",
              "<svg xmlns=\"http://www.w3.org/2000/svg\" height=\"24px\"viewBox=\"0 0 24 24\"\n",
              "     width=\"24px\">\n",
              "    <g>\n",
              "        <path d=\"M19 3H5c-1.1 0-2 .9-2 2v14c0 1.1.9 2 2 2h14c1.1 0 2-.9 2-2V5c0-1.1-.9-2-2-2zM9 17H7v-7h2v7zm4 0h-2V7h2v10zm4 0h-2v-4h2v4z\"/>\n",
              "    </g>\n",
              "</svg>\n",
              "  </button>\n",
              "\n",
              "<style>\n",
              "  .colab-df-quickchart {\n",
              "      --bg-color: #E8F0FE;\n",
              "      --fill-color: #1967D2;\n",
              "      --hover-bg-color: #E2EBFA;\n",
              "      --hover-fill-color: #174EA6;\n",
              "      --disabled-fill-color: #AAA;\n",
              "      --disabled-bg-color: #DDD;\n",
              "  }\n",
              "\n",
              "  [theme=dark] .colab-df-quickchart {\n",
              "      --bg-color: #3B4455;\n",
              "      --fill-color: #D2E3FC;\n",
              "      --hover-bg-color: #434B5C;\n",
              "      --hover-fill-color: #FFFFFF;\n",
              "      --disabled-bg-color: #3B4455;\n",
              "      --disabled-fill-color: #666;\n",
              "  }\n",
              "\n",
              "  .colab-df-quickchart {\n",
              "    background-color: var(--bg-color);\n",
              "    border: none;\n",
              "    border-radius: 50%;\n",
              "    cursor: pointer;\n",
              "    display: none;\n",
              "    fill: var(--fill-color);\n",
              "    height: 32px;\n",
              "    padding: 0;\n",
              "    width: 32px;\n",
              "  }\n",
              "\n",
              "  .colab-df-quickchart:hover {\n",
              "    background-color: var(--hover-bg-color);\n",
              "    box-shadow: 0 1px 2px rgba(60, 64, 67, 0.3), 0 1px 3px 1px rgba(60, 64, 67, 0.15);\n",
              "    fill: var(--button-hover-fill-color);\n",
              "  }\n",
              "\n",
              "  .colab-df-quickchart-complete:disabled,\n",
              "  .colab-df-quickchart-complete:disabled:hover {\n",
              "    background-color: var(--disabled-bg-color);\n",
              "    fill: var(--disabled-fill-color);\n",
              "    box-shadow: none;\n",
              "  }\n",
              "\n",
              "  .colab-df-spinner {\n",
              "    border: 2px solid var(--fill-color);\n",
              "    border-color: transparent;\n",
              "    border-bottom-color: var(--fill-color);\n",
              "    animation:\n",
              "      spin 1s steps(1) infinite;\n",
              "  }\n",
              "\n",
              "  @keyframes spin {\n",
              "    0% {\n",
              "      border-color: transparent;\n",
              "      border-bottom-color: var(--fill-color);\n",
              "      border-left-color: var(--fill-color);\n",
              "    }\n",
              "    20% {\n",
              "      border-color: transparent;\n",
              "      border-left-color: var(--fill-color);\n",
              "      border-top-color: var(--fill-color);\n",
              "    }\n",
              "    30% {\n",
              "      border-color: transparent;\n",
              "      border-left-color: var(--fill-color);\n",
              "      border-top-color: var(--fill-color);\n",
              "      border-right-color: var(--fill-color);\n",
              "    }\n",
              "    40% {\n",
              "      border-color: transparent;\n",
              "      border-right-color: var(--fill-color);\n",
              "      border-top-color: var(--fill-color);\n",
              "    }\n",
              "    60% {\n",
              "      border-color: transparent;\n",
              "      border-right-color: var(--fill-color);\n",
              "    }\n",
              "    80% {\n",
              "      border-color: transparent;\n",
              "      border-right-color: var(--fill-color);\n",
              "      border-bottom-color: var(--fill-color);\n",
              "    }\n",
              "    90% {\n",
              "      border-color: transparent;\n",
              "      border-bottom-color: var(--fill-color);\n",
              "    }\n",
              "  }\n",
              "</style>\n",
              "\n",
              "  <script>\n",
              "    async function quickchart(key) {\n",
              "      const quickchartButtonEl =\n",
              "        document.querySelector('#' + key + ' button');\n",
              "      quickchartButtonEl.disabled = true;  // To prevent multiple clicks.\n",
              "      quickchartButtonEl.classList.add('colab-df-spinner');\n",
              "      try {\n",
              "        const charts = await google.colab.kernel.invokeFunction(\n",
              "            'suggestCharts', [key], {});\n",
              "      } catch (error) {\n",
              "        console.error('Error during call to suggestCharts:', error);\n",
              "      }\n",
              "      quickchartButtonEl.classList.remove('colab-df-spinner');\n",
              "      quickchartButtonEl.classList.add('colab-df-quickchart-complete');\n",
              "    }\n",
              "    (() => {\n",
              "      let quickchartButtonEl =\n",
              "        document.querySelector('#df-21b752cb-8cc9-4b0b-9d20-3962e97ff527 button');\n",
              "      quickchartButtonEl.style.display =\n",
              "        google.colab.kernel.accessAllowed ? 'block' : 'none';\n",
              "    })();\n",
              "  </script>\n",
              "</div>\n",
              "\n",
              "    </div>\n",
              "  </div>\n"
            ],
            "application/vnd.google.colaboratory.intrinsic+json": {
              "type": "dataframe",
              "variable_name": "fiveK",
              "summary": "{\n  \"name\": \"fiveK\",\n  \"rows\": 656,\n  \"fields\": [\n    {\n      \"column\": \"Run\",\n      \"properties\": {\n        \"dtype\": \"category\",\n        \"num_unique_values\": 2,\n        \"samples\": [\n          \"FN\",\n          \"AF\"\n        ],\n        \"semantic_type\": \"\",\n        \"description\": \"\"\n      }\n    },\n    {\n      \"column\": \"Finishing Time In Minutes\",\n      \"properties\": {\n        \"dtype\": \"number\",\n        \"std\": 7.133481202963814,\n        \"min\": 16.4,\n        \"max\": 78.767,\n        \"num_unique_values\": 495,\n        \"samples\": [\n          35.217,\n          26.483\n        ],\n        \"semantic_type\": \"\",\n        \"description\": \"\"\n      }\n    },\n    {\n      \"column\": \"Identifies As Female\",\n      \"properties\": {\n        \"dtype\": \"boolean\",\n        \"num_unique_values\": 2,\n        \"samples\": [\n          true,\n          false\n        ],\n        \"semantic_type\": \"\",\n        \"description\": \"\"\n      }\n    },\n    {\n      \"column\": \"Age\",\n      \"properties\": {\n        \"dtype\": \"number\",\n        \"std\": 14,\n        \"min\": 6,\n        \"max\": 85,\n        \"num_unique_values\": 65,\n        \"samples\": [\n          51,\n          68\n        ],\n        \"semantic_type\": \"\",\n        \"description\": \"\"\n      }\n    },\n    {\n      \"column\": \"Name\",\n      \"properties\": {\n        \"dtype\": \"string\",\n        \"num_unique_values\": 632,\n        \"samples\": [\n          \"Kim Gasper\",\n          \"Andrew Maguire\"\n        ],\n        \"semantic_type\": \"\",\n        \"description\": \"\"\n      }\n    },\n    {\n      \"column\": \"City\",\n      \"properties\": {\n        \"dtype\": \"category\",\n        \"num_unique_values\": 123,\n        \"samples\": [\n          \"West Chester\",\n          \"Port Royal\"\n        ],\n        \"semantic_type\": \"\",\n        \"description\": \"\"\n      }\n    },\n    {\n      \"column\": \"State\",\n      \"properties\": {\n        \"dtype\": \"category\",\n        \"num_unique_values\": 19,\n        \"samples\": [\n          \"PA \",\n          \"TX \"\n        ],\n        \"semantic_type\": \"\",\n        \"description\": \"\"\n      }\n    }\n  ]\n}"
            }
          },
          "metadata": {},
          "execution_count": 47
        }
      ]
    },
    {
      "cell_type": "markdown",
      "source": [
        "Now, let's simplify our data into a new dataframe with just the time and whether or not the runner identifies as a female."
      ],
      "metadata": {
        "id": "OlAq1elhNjdj"
      }
    },
    {
      "cell_type": "code",
      "source": [
        "new_5k = fiveK.copy()[['Finishing Time In Minutes', 'Identifies As Female']]\n",
        "new_5k.head()"
      ],
      "metadata": {
        "colab": {
          "base_uri": "https://localhost:8080/",
          "height": 206
        },
        "id": "79xWZdHBOBbB",
        "outputId": "66855304-778b-446a-c5ee-f6b90c3e0318"
      },
      "execution_count": null,
      "outputs": [
        {
          "output_type": "execute_result",
          "data": {
            "text/plain": [
              "   Finishing Time In Minutes  Identifies As Female\n",
              "0                     17.617                 False\n",
              "1                     18.067                 False\n",
              "2                     18.583                 False\n",
              "3                     18.717                 False\n",
              "4                     18.800                  True"
            ],
            "text/html": [
              "\n",
              "  <div id=\"df-f58fcdba-597a-4225-bd43-b5bbda3e1518\" class=\"colab-df-container\">\n",
              "    <div>\n",
              "<style scoped>\n",
              "    .dataframe tbody tr th:only-of-type {\n",
              "        vertical-align: middle;\n",
              "    }\n",
              "\n",
              "    .dataframe tbody tr th {\n",
              "        vertical-align: top;\n",
              "    }\n",
              "\n",
              "    .dataframe thead th {\n",
              "        text-align: right;\n",
              "    }\n",
              "</style>\n",
              "<table border=\"1\" class=\"dataframe\">\n",
              "  <thead>\n",
              "    <tr style=\"text-align: right;\">\n",
              "      <th></th>\n",
              "      <th>Finishing Time In Minutes</th>\n",
              "      <th>Identifies As Female</th>\n",
              "    </tr>\n",
              "  </thead>\n",
              "  <tbody>\n",
              "    <tr>\n",
              "      <th>0</th>\n",
              "      <td>17.617</td>\n",
              "      <td>False</td>\n",
              "    </tr>\n",
              "    <tr>\n",
              "      <th>1</th>\n",
              "      <td>18.067</td>\n",
              "      <td>False</td>\n",
              "    </tr>\n",
              "    <tr>\n",
              "      <th>2</th>\n",
              "      <td>18.583</td>\n",
              "      <td>False</td>\n",
              "    </tr>\n",
              "    <tr>\n",
              "      <th>3</th>\n",
              "      <td>18.717</td>\n",
              "      <td>False</td>\n",
              "    </tr>\n",
              "    <tr>\n",
              "      <th>4</th>\n",
              "      <td>18.800</td>\n",
              "      <td>True</td>\n",
              "    </tr>\n",
              "  </tbody>\n",
              "</table>\n",
              "</div>\n",
              "    <div class=\"colab-df-buttons\">\n",
              "\n",
              "  <div class=\"colab-df-container\">\n",
              "    <button class=\"colab-df-convert\" onclick=\"convertToInteractive('df-f58fcdba-597a-4225-bd43-b5bbda3e1518')\"\n",
              "            title=\"Convert this dataframe to an interactive table.\"\n",
              "            style=\"display:none;\">\n",
              "\n",
              "  <svg xmlns=\"http://www.w3.org/2000/svg\" height=\"24px\" viewBox=\"0 -960 960 960\">\n",
              "    <path d=\"M120-120v-720h720v720H120Zm60-500h600v-160H180v160Zm220 220h160v-160H400v160Zm0 220h160v-160H400v160ZM180-400h160v-160H180v160Zm440 0h160v-160H620v160ZM180-180h160v-160H180v160Zm440 0h160v-160H620v160Z\"/>\n",
              "  </svg>\n",
              "    </button>\n",
              "\n",
              "  <style>\n",
              "    .colab-df-container {\n",
              "      display:flex;\n",
              "      gap: 12px;\n",
              "    }\n",
              "\n",
              "    .colab-df-convert {\n",
              "      background-color: #E8F0FE;\n",
              "      border: none;\n",
              "      border-radius: 50%;\n",
              "      cursor: pointer;\n",
              "      display: none;\n",
              "      fill: #1967D2;\n",
              "      height: 32px;\n",
              "      padding: 0 0 0 0;\n",
              "      width: 32px;\n",
              "    }\n",
              "\n",
              "    .colab-df-convert:hover {\n",
              "      background-color: #E2EBFA;\n",
              "      box-shadow: 0px 1px 2px rgba(60, 64, 67, 0.3), 0px 1px 3px 1px rgba(60, 64, 67, 0.15);\n",
              "      fill: #174EA6;\n",
              "    }\n",
              "\n",
              "    .colab-df-buttons div {\n",
              "      margin-bottom: 4px;\n",
              "    }\n",
              "\n",
              "    [theme=dark] .colab-df-convert {\n",
              "      background-color: #3B4455;\n",
              "      fill: #D2E3FC;\n",
              "    }\n",
              "\n",
              "    [theme=dark] .colab-df-convert:hover {\n",
              "      background-color: #434B5C;\n",
              "      box-shadow: 0px 1px 3px 1px rgba(0, 0, 0, 0.15);\n",
              "      filter: drop-shadow(0px 1px 2px rgba(0, 0, 0, 0.3));\n",
              "      fill: #FFFFFF;\n",
              "    }\n",
              "  </style>\n",
              "\n",
              "    <script>\n",
              "      const buttonEl =\n",
              "        document.querySelector('#df-f58fcdba-597a-4225-bd43-b5bbda3e1518 button.colab-df-convert');\n",
              "      buttonEl.style.display =\n",
              "        google.colab.kernel.accessAllowed ? 'block' : 'none';\n",
              "\n",
              "      async function convertToInteractive(key) {\n",
              "        const element = document.querySelector('#df-f58fcdba-597a-4225-bd43-b5bbda3e1518');\n",
              "        const dataTable =\n",
              "          await google.colab.kernel.invokeFunction('convertToInteractive',\n",
              "                                                    [key], {});\n",
              "        if (!dataTable) return;\n",
              "\n",
              "        const docLinkHtml = 'Like what you see? Visit the ' +\n",
              "          '<a target=\"_blank\" href=https://colab.research.google.com/notebooks/data_table.ipynb>data table notebook</a>'\n",
              "          + ' to learn more about interactive tables.';\n",
              "        element.innerHTML = '';\n",
              "        dataTable['output_type'] = 'display_data';\n",
              "        await google.colab.output.renderOutput(dataTable, element);\n",
              "        const docLink = document.createElement('div');\n",
              "        docLink.innerHTML = docLinkHtml;\n",
              "        element.appendChild(docLink);\n",
              "      }\n",
              "    </script>\n",
              "  </div>\n",
              "\n",
              "\n",
              "<div id=\"df-11e3aa5a-1831-422a-8f4f-b3ee51799284\">\n",
              "  <button class=\"colab-df-quickchart\" onclick=\"quickchart('df-11e3aa5a-1831-422a-8f4f-b3ee51799284')\"\n",
              "            title=\"Suggest charts\"\n",
              "            style=\"display:none;\">\n",
              "\n",
              "<svg xmlns=\"http://www.w3.org/2000/svg\" height=\"24px\"viewBox=\"0 0 24 24\"\n",
              "     width=\"24px\">\n",
              "    <g>\n",
              "        <path d=\"M19 3H5c-1.1 0-2 .9-2 2v14c0 1.1.9 2 2 2h14c1.1 0 2-.9 2-2V5c0-1.1-.9-2-2-2zM9 17H7v-7h2v7zm4 0h-2V7h2v10zm4 0h-2v-4h2v4z\"/>\n",
              "    </g>\n",
              "</svg>\n",
              "  </button>\n",
              "\n",
              "<style>\n",
              "  .colab-df-quickchart {\n",
              "      --bg-color: #E8F0FE;\n",
              "      --fill-color: #1967D2;\n",
              "      --hover-bg-color: #E2EBFA;\n",
              "      --hover-fill-color: #174EA6;\n",
              "      --disabled-fill-color: #AAA;\n",
              "      --disabled-bg-color: #DDD;\n",
              "  }\n",
              "\n",
              "  [theme=dark] .colab-df-quickchart {\n",
              "      --bg-color: #3B4455;\n",
              "      --fill-color: #D2E3FC;\n",
              "      --hover-bg-color: #434B5C;\n",
              "      --hover-fill-color: #FFFFFF;\n",
              "      --disabled-bg-color: #3B4455;\n",
              "      --disabled-fill-color: #666;\n",
              "  }\n",
              "\n",
              "  .colab-df-quickchart {\n",
              "    background-color: var(--bg-color);\n",
              "    border: none;\n",
              "    border-radius: 50%;\n",
              "    cursor: pointer;\n",
              "    display: none;\n",
              "    fill: var(--fill-color);\n",
              "    height: 32px;\n",
              "    padding: 0;\n",
              "    width: 32px;\n",
              "  }\n",
              "\n",
              "  .colab-df-quickchart:hover {\n",
              "    background-color: var(--hover-bg-color);\n",
              "    box-shadow: 0 1px 2px rgba(60, 64, 67, 0.3), 0 1px 3px 1px rgba(60, 64, 67, 0.15);\n",
              "    fill: var(--button-hover-fill-color);\n",
              "  }\n",
              "\n",
              "  .colab-df-quickchart-complete:disabled,\n",
              "  .colab-df-quickchart-complete:disabled:hover {\n",
              "    background-color: var(--disabled-bg-color);\n",
              "    fill: var(--disabled-fill-color);\n",
              "    box-shadow: none;\n",
              "  }\n",
              "\n",
              "  .colab-df-spinner {\n",
              "    border: 2px solid var(--fill-color);\n",
              "    border-color: transparent;\n",
              "    border-bottom-color: var(--fill-color);\n",
              "    animation:\n",
              "      spin 1s steps(1) infinite;\n",
              "  }\n",
              "\n",
              "  @keyframes spin {\n",
              "    0% {\n",
              "      border-color: transparent;\n",
              "      border-bottom-color: var(--fill-color);\n",
              "      border-left-color: var(--fill-color);\n",
              "    }\n",
              "    20% {\n",
              "      border-color: transparent;\n",
              "      border-left-color: var(--fill-color);\n",
              "      border-top-color: var(--fill-color);\n",
              "    }\n",
              "    30% {\n",
              "      border-color: transparent;\n",
              "      border-left-color: var(--fill-color);\n",
              "      border-top-color: var(--fill-color);\n",
              "      border-right-color: var(--fill-color);\n",
              "    }\n",
              "    40% {\n",
              "      border-color: transparent;\n",
              "      border-right-color: var(--fill-color);\n",
              "      border-top-color: var(--fill-color);\n",
              "    }\n",
              "    60% {\n",
              "      border-color: transparent;\n",
              "      border-right-color: var(--fill-color);\n",
              "    }\n",
              "    80% {\n",
              "      border-color: transparent;\n",
              "      border-right-color: var(--fill-color);\n",
              "      border-bottom-color: var(--fill-color);\n",
              "    }\n",
              "    90% {\n",
              "      border-color: transparent;\n",
              "      border-bottom-color: var(--fill-color);\n",
              "    }\n",
              "  }\n",
              "</style>\n",
              "\n",
              "  <script>\n",
              "    async function quickchart(key) {\n",
              "      const quickchartButtonEl =\n",
              "        document.querySelector('#' + key + ' button');\n",
              "      quickchartButtonEl.disabled = true;  // To prevent multiple clicks.\n",
              "      quickchartButtonEl.classList.add('colab-df-spinner');\n",
              "      try {\n",
              "        const charts = await google.colab.kernel.invokeFunction(\n",
              "            'suggestCharts', [key], {});\n",
              "      } catch (error) {\n",
              "        console.error('Error during call to suggestCharts:', error);\n",
              "      }\n",
              "      quickchartButtonEl.classList.remove('colab-df-spinner');\n",
              "      quickchartButtonEl.classList.add('colab-df-quickchart-complete');\n",
              "    }\n",
              "    (() => {\n",
              "      let quickchartButtonEl =\n",
              "        document.querySelector('#df-11e3aa5a-1831-422a-8f4f-b3ee51799284 button');\n",
              "      quickchartButtonEl.style.display =\n",
              "        google.colab.kernel.accessAllowed ? 'block' : 'none';\n",
              "    })();\n",
              "  </script>\n",
              "</div>\n",
              "\n",
              "    </div>\n",
              "  </div>\n"
            ],
            "application/vnd.google.colaboratory.intrinsic+json": {
              "type": "dataframe",
              "variable_name": "new_5k",
              "summary": "{\n  \"name\": \"new_5k\",\n  \"rows\": 656,\n  \"fields\": [\n    {\n      \"column\": \"Finishing Time In Minutes\",\n      \"properties\": {\n        \"dtype\": \"number\",\n        \"std\": 7.133481202963814,\n        \"min\": 16.4,\n        \"max\": 78.767,\n        \"num_unique_values\": 495,\n        \"samples\": [\n          35.217,\n          26.483,\n          24.767\n        ],\n        \"semantic_type\": \"\",\n        \"description\": \"\"\n      }\n    },\n    {\n      \"column\": \"Identifies As Female\",\n      \"properties\": {\n        \"dtype\": \"boolean\",\n        \"num_unique_values\": 2,\n        \"samples\": [\n          true,\n          false\n        ],\n        \"semantic_type\": \"\",\n        \"description\": \"\"\n      }\n    }\n  ]\n}"
            }
          },
          "metadata": {},
          "execution_count": 48
        }
      ]
    },
    {
      "cell_type": "markdown",
      "source": [
        "Let's find the population difference of means by gender for a p-value calculation later. Let's also create a function so we can use it later in A/B testing."
      ],
      "metadata": {
        "id": "X7GrPrQ6PTT8"
      }
    },
    {
      "cell_type": "code",
      "source": [
        "def difference_of_means(df):\n",
        "    new_df = df.groupby('Identifies As Female').mean()\n",
        "    return new_df.loc[False][0] - new_df.loc[True][0] #non-female - female\n",
        "\n",
        "observed_difference = difference_of_means(new_5k)"
      ],
      "metadata": {
        "id": "IzOkX2COPRY7"
      },
      "execution_count": null,
      "outputs": []
    },
    {
      "cell_type": "code",
      "source": [
        "observed_difference"
      ],
      "metadata": {
        "colab": {
          "base_uri": "https://localhost:8080/"
        },
        "id": "O3pows0MbV6Z",
        "outputId": "e189d4ac-9f13-4d53-b459-9f0f09b8294f"
      },
      "execution_count": null,
      "outputs": [
        {
          "output_type": "execute_result",
          "data": {
            "text/plain": [
              "-4.5908775279948095"
            ]
          },
          "metadata": {},
          "execution_count": 55
        }
      ]
    },
    {
      "cell_type": "markdown",
      "source": [
        "This means that the mean time of a non-female is 4.59 minutes faster than a female in this dataset. Next, we need to find out whether this is just due to chance in this dataset, or if there is a statistically significant difference in the means and we can apply this finding to a population greater than just the sample."
      ],
      "metadata": {
        "id": "A_X7cCPBQUdV"
      }
    },
    {
      "cell_type": "markdown",
      "source": [
        "##A/B Test"
      ],
      "metadata": {
        "id": "rZgA44O9dMHt"
      }
    },
    {
      "cell_type": "markdown",
      "source": [
        "To find this out, let's run an A/B test. The null hypothesis is that there is no difference in the mean finish race time of those who identify as women and the rest of the field of runners. We will set the necessary p-value to reject the null at .05"
      ],
      "metadata": {
        "id": "XjFnlCUPqPHI"
      }
    },
    {
      "cell_type": "code",
      "source": [
        "def one_simulated_difference_of_means():\n",
        "    shuffled_labels = new_5k['Identifies As Female'].sample(n = 656, replace=False).reset_index(drop=True) #randomly shuffles the values of True and False\n",
        "    new_5k['Identifies As Female'] = shuffled_labels\n",
        "    return difference_of_means(new_5k)\n",
        "\n",
        "one_simulated_difference_of_means()"
      ],
      "metadata": {
        "id": "bbtpPtwo287J",
        "colab": {
          "base_uri": "https://localhost:8080/"
        },
        "outputId": "d39839dd-094b-47b1-afcd-d3deef7ab432"
      },
      "execution_count": null,
      "outputs": [
        {
          "output_type": "execute_result",
          "data": {
            "text/plain": [
              "-0.6615880837540757"
            ]
          },
          "metadata": {},
          "execution_count": 50
        }
      ]
    },
    {
      "cell_type": "markdown",
      "source": [
        "For our next step. We will run the simulated difference of means under the assumption of the null hypothesis 5000 times to eventually compare our observed difference of means from the dataset."
      ],
      "metadata": {
        "id": "TyT0xK8lSDlo"
      }
    },
    {
      "cell_type": "code",
      "source": [
        "repetitions = 5000\n",
        "differences = np.empty(repetitions)\n",
        "\n",
        "for i in np.arange(repetitions):\n",
        "    differences[i] = one_simulated_difference_of_means()"
      ],
      "metadata": {
        "id": "o_Cx3vE75BbU"
      },
      "execution_count": null,
      "outputs": []
    },
    {
      "cell_type": "code",
      "source": [
        "differences[0:10]"
      ],
      "metadata": {
        "colab": {
          "base_uri": "https://localhost:8080/"
        },
        "id": "VoUCqs6tWq4Z",
        "outputId": "646588d3-3388-4c51-be53-586f68ec46dd"
      },
      "execution_count": null,
      "outputs": [
        {
          "output_type": "execute_result",
          "data": {
            "text/plain": [
              "array([-0.39307334, -0.19958359, -0.41303231,  0.17034196,  0.00123966,\n",
              "        0.92972646,  0.20899551, -0.85143883, -0.30561407,  1.03074253])"
            ]
          },
          "metadata": {},
          "execution_count": 52
        }
      ]
    },
    {
      "cell_type": "markdown",
      "source": [
        "Next, let's plot the 5000 repetitions on a histogram.\n",
        "\n"
      ],
      "metadata": {
        "id": "ZY-b2KJEBtMa"
      }
    },
    {
      "cell_type": "code",
      "source": [
        "pd.DataFrame(differences).hist(grid=False)"
      ],
      "metadata": {
        "colab": {
          "base_uri": "https://localhost:8080/",
          "height": 470
        },
        "id": "xlVEylj-7GR2",
        "outputId": "c8325ea3-e90a-4846-f759-34818b333727"
      },
      "execution_count": null,
      "outputs": [
        {
          "output_type": "execute_result",
          "data": {
            "text/plain": [
              "array([[<Axes: title={'center': '0'}>]], dtype=object)"
            ]
          },
          "metadata": {},
          "execution_count": 53
        },
        {
          "output_type": "display_data",
          "data": {
            "text/plain": [
              "<Figure size 640x480 with 1 Axes>"
            ],
            "image/png": "[encoded data removed]"
          },
          "metadata": {}
        }
      ]
    },
    {
      "cell_type": "markdown",
      "source": [
        "If you remember, our observed statistic was about -4.6. As you can see above, neither extremes on the left or the right surpass a simulated difference of -2.1. To be sure, let's calculate the p-value. We will stick with a two-sided p-value because we are testing to see if there is \"any\" difference between the two populations despite what some assumptions about running and biology may lead you to think."
      ],
      "metadata": {
        "id": "DW2cl8QObK8R"
      }
    },
    {
      "cell_type": "code",
      "source": [
        "diff_array = np.array(differences)\n",
        "p_value = np.count_nonzero(abs(diff_array)>=abs(observed_difference))/repetitions\n",
        "p_value"
      ],
      "metadata": {
        "colab": {
          "base_uri": "https://localhost:8080/"
        },
        "id": "HXmEIFoKCHcn",
        "outputId": "c8e8b0ea-9344-4ffa-ecf0-ef96cee6ae43"
      },
      "execution_count": null,
      "outputs": [
        {
          "output_type": "execute_result",
          "data": {
            "text/plain": [
              "0.0"
            ]
          },
          "metadata": {},
          "execution_count": 56
        }
      ]
    },
    {
      "cell_type": "markdown",
      "source": [
        "English Conclusion: After 5,000 repititions assuming that there is no difference in the average finishing time of runners who identify as female and those who do not, there was not a single repitition in which we saw a point as extreme as what we saw in the sample race. Thus, we can say that our evidence leads to the fact that the reason for this observed difference is something other than random chance.\n",
        "\n",
        "Statistical Conclusion: With a p-value of 0, we can reject our null hypothesis that there is no difference in the mean finishing time of runners who identify as female and those who do not. The p-value signifies that there is no value as extreme or more extreme in the simulation as the original sample statistic."
      ],
      "metadata": {
        "id": "-G0maP4TEAAu"
      }
    },
    {
      "cell_type": "markdown",
      "source": [
        "## Bootstrapping a Confidence Interval"
      ],
      "metadata": {
        "id": "jHNYz1I3bn6O"
      }
    },
    {
      "cell_type": "markdown",
      "source": [
        "When constructing our confidence interval, it's important that each sample we take has the same number as the original sample. Let's see if those values are different:"
      ],
      "metadata": {
        "id": "7-NM-SxSdRLP"
      }
    },
    {
      "cell_type": "code",
      "source": [
        "fiveK['Identifies As Female'].value_counts()"
      ],
      "metadata": {
        "colab": {
          "base_uri": "https://localhost:8080/"
        },
        "id": "UuZan_bhfGis",
        "outputId": "f5e81d5e-632a-4ef2-a7ec-9e702ea9d1e9"
      },
      "execution_count": null,
      "outputs": [
        {
          "output_type": "execute_result",
          "data": {
            "text/plain": [
              "False    363\n",
              "True     293\n",
              "Name: Identifies As Female, dtype: int64"
            ]
          },
          "metadata": {},
          "execution_count": 60
        }
      ]
    },
    {
      "cell_type": "markdown",
      "source": [
        "Clearly there are more non-female identifying runners in the sample, so we can split the dataframe into two different dataframes to simplify our next steps."
      ],
      "metadata": {
        "id": "edyTW-JqdlcC"
      }
    },
    {
      "cell_type": "code",
      "source": [
        "fiveK_male = fiveK[fiveK['Identifies As Female']==False]\n",
        "fiveK_female = fiveK[fiveK['Identifies As Female']==True]"
      ],
      "metadata": {
        "id": "O7o5RrkcbkqX"
      },
      "execution_count": null,
      "outputs": []
    },
    {
      "cell_type": "markdown",
      "source": [
        "Now, let's create a function for a single bootstrapped mean. This includes creating a sample (with replacement) for both females and non-females and then finding the difference."
      ],
      "metadata": {
        "id": "uUNXZJihdz5R"
      }
    },
    {
      "cell_type": "code",
      "source": [
        "def one_bootstrap_mean_difference():\n",
        "    resampled_Females = fiveK_female.sample(n = 293, replace = True)\n",
        "    resampled_Males = fiveK_male.sample(n = 363, replace = True)\n",
        "    Female_mean = np.mean(resampled_Females['Finishing Time In Minutes'])\n",
        "    Male_mean = np.mean(resampled_Males['Finishing Time In Minutes'])\n",
        "    bootstrapped_mean_difference =  Male_mean - Female_mean\n",
        "    return bootstrapped_mean_difference\n",
        "one_bootstrap_mean_difference()"
      ],
      "metadata": {
        "id": "GfPZHcarcEVG",
        "colab": {
          "base_uri": "https://localhost:8080/"
        },
        "outputId": "74cf5c02-2f7d-4caf-8e4d-9b0bfae875bc"
      },
      "execution_count": null,
      "outputs": [
        {
          "output_type": "execute_result",
          "data": {
            "text/plain": [
              "-4.8744071775778295"
            ]
          },
          "metadata": {},
          "execution_count": 66
        }
      ]
    },
    {
      "cell_type": "markdown",
      "source": [
        "The next step in our analysis is to create a histogram with 5000 bootstrapped sample mean differences."
      ],
      "metadata": {
        "id": "9hX1-aMxeipg"
      }
    },
    {
      "cell_type": "code",
      "source": [
        "num_repetitions = 5000\n",
        "bstrap_means = list()\n",
        "for i in np.arange(num_repetitions):\n",
        "    bstrap_means = np.append(bstrap_means, one_bootstrap_mean_difference())"
      ],
      "metadata": {
        "id": "Etmo1Q4winyS"
      },
      "execution_count": null,
      "outputs": []
    },
    {
      "cell_type": "code",
      "source": [
        "resampled_means = pd.DataFrame({\"Bootstrap Sample means\": bstrap_means})\n",
        "resampled_means.hist()"
      ],
      "metadata": {
        "colab": {
          "base_uri": "https://localhost:8080/",
          "height": 470
        },
        "id": "BnaWPL-riw_Z",
        "outputId": "c61f7dcf-0aa2-43f2-b56d-c6810e5ef1a7"
      },
      "execution_count": null,
      "outputs": [
        {
          "output_type": "execute_result",
          "data": {
            "text/plain": [
              "array([[<Axes: title={'center': 'Bootstrap Sample means'}>]], dtype=object)"
            ]
          },
          "metadata": {},
          "execution_count": 68
        },
        {
          "output_type": "display_data",
          "data": {
            "text/plain": [
              "<Figure size 640x480 with 1 Axes>"
            ],
            "image/png": "[encoded data removed]"
          },
          "metadata": {}
        }
      ]
    },
    {
      "cell_type": "markdown",
      "source": [
        "With this information, we can create a confidence interval by finding the data point at the 2.5 percentile and the 97.5 percentile."
      ],
      "metadata": {
        "id": "weZvlP51fKXv"
      }
    },
    {
      "cell_type": "code",
      "source": [
        "left = np.percentile(bstrap_means, 2.5)\n",
        "right = np.percentile(bstrap_means, 97.5)\n",
        "print(left, \"  \", right)"
      ],
      "metadata": {
        "id": "TyuIUbF1i9vE",
        "colab": {
          "base_uri": "https://localhost:8080/"
        },
        "outputId": "61e85eb8-ffd4-416f-a608-c0af263a16d6"
      },
      "execution_count": null,
      "outputs": [
        {
          "output_type": "stream",
          "name": "stdout",
          "text": [
            "-5.64956784146147    -3.51850233172557\n"
          ]
        }
      ]
    },
    {
      "cell_type": "markdown",
      "source": [
        "Thus, we are 95% confident that the true difference in mean 5K road race finishing times between females and males is between -5.65 and -3.52."
      ],
      "metadata": {
        "id": "1N-ljLyufaKx"
      }
    }
  ]
}